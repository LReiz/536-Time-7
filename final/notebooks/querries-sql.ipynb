{
 "cells": [
  {
   "cell_type": "code",
   "execution_count": 4,
   "id": "65b49ce4",
   "metadata": {},
   "outputs": [],
   "source": [
    "%defaultDatasource jdbc:h2:mem:db"
   ]
  },
  {
   "cell_type": "code",
   "execution_count": 5,
   "id": "224621b0",
   "metadata": {},
   "outputs": [],
   "source": [
    "DROP TABLE IF EXISTS MusicRelation;\n",
    "\n",
    "CREATE TABLE MusicRelation (\n",
    "  Song_1 CHAR(23),\n",
    "  Song_2 CHAR(23),\n",
    "  Relation FLOAT\n",
    ") AS SELECT\n",
    "    Song_1,\n",
    "    Song_2,\n",
    "    Relation\n",
    "FROM CSVREAD('./relationTable1000.csv');"
   ]
  },
  {
   "cell_type": "code",
   "execution_count": 6,
   "id": "817da6c9",
   "metadata": {},
   "outputs": [],
   "source": [
    "DROP TABLE IF EXISTS Songs;\n",
    "\n",
    "CREATE TABLE Songs (\n",
    "  song_id CHAR(23),\n",
    "  song_name CHAR(100),\n",
    "  artists CHAR(400),\n",
    "  popularity INTEGER,\n",
    ") AS SELECT\n",
    "    song_id,\n",
    "    song_name,\n",
    "    artists,\n",
    "    popularity\n",
    "FROM CSVREAD('./musicTable1000.csv');"
   ]
  },
  {
   "cell_type": "markdown",
   "id": "d59b6e48",
   "metadata": {},
   "source": [
    "# Pergunta 1"
   ]
  },
  {
   "cell_type": "code",
   "execution_count": 7,
   "id": "be234a07",
   "metadata": {},
   "outputs": [
    {
     "data": {
      "text/plain": [
       "4.645"
      ]
     },
     "execution_count": 7,
     "metadata": {},
     "output_type": "execute_result"
    }
   ],
   "source": [
    "DROP TABLE IF EXISTS ViewMusicRelation;\n",
    "CREATE VIEW ViewMusicRelation AS SELECT Song_1, COUNT(*) Quantity FROM MusicRelation GROUP BY Song_1;\n",
    "SELECT Relation FROM MusicRelation WHERE Relation = (SELECT MAX(Relation) FROM MusicRelation);"
   ]
  },
  {
   "cell_type": "code",
   "execution_count": 8,
   "id": "fc69e33f",
   "metadata": {},
   "outputs": [
    {
     "data": {
      "application/vnd.jupyter.widget-view+json": {
       "model_id": "bd76d7dc-349f-46e6-a18f-ad15bc375efb",
       "version_major": 2,
       "version_minor": 0
      },
      "method": "display_data"
     },
     "metadata": {},
     "output_type": "display_data"
    }
   ],
   "source": [
    "SELECT Song_1, Song_2, Relation FROM MusicRelation WHERE Relation > 4.645*0.7"
   ]
  },
  {
   "cell_type": "code",
   "execution_count": 9,
   "id": "1be902ac",
   "metadata": {},
   "outputs": [
    {
     "data": {
      "application/vnd.jupyter.widget-view+json": {
       "model_id": "a25f52b9-66f9-42f9-b532-7b5232f5c550",
       "version_major": 2,
       "version_minor": 0
      },
      "method": "display_data"
     },
     "metadata": {},
     "output_type": "display_data"
    }
   ],
   "source": [
    "DROP TABLE IF EXISTS ViewBestMusics;\n",
    "CREATE VIEW ViewBestMusics AS SELECT Song_1, Song_2, Relation FROM MusicRelation WHERE Relation > 4.645*0.7 GROUP BY Song_1, Song_2, Relation;\n",
    "SELECT * FROM ViewBestMusics;"
   ]
  },
  {
   "cell_type": "markdown",
   "id": "a912bd37",
   "metadata": {},
   "source": [
    "### Músicas com relação maior que 70% de 4.645\n",
    "### Sendo 4.645 a maior relação na tabela de relações"
   ]
  },
  {
   "cell_type": "code",
   "execution_count": 10,
   "id": "e0fe6ffa",
   "metadata": {},
   "outputs": [
    {
     "data": {
      "application/vnd.jupyter.widget-view+json": {
       "model_id": "352a1d9b-5599-459d-941f-b7c9a71f7263",
       "version_major": 2,
       "version_minor": 0
      },
      "method": "display_data"
     },
     "metadata": {},
     "output_type": "display_data"
    },
    {
     "data": {
      "application/vnd.jupyter.widget-view+json": {
       "model_id": "73ac9e20-e335-4fbe-a9f8-00f6b0abe399",
       "version_major": 2,
       "version_minor": 0
      },
      "method": "display_data"
     },
     "metadata": {},
     "output_type": "display_data"
    }
   ],
   "source": [
    "SELECT * FROM Songs WHERE song_id IN (SELECT Song_1 FROM MusicRelation WHERE Relation > 4.645*0.7);\n",
    "SELECT * FROM Songs WHERE song_id IN (SELECT Song_2 FROM MusicRelation WHERE Relation > 4.645*0.7);"
   ]
  },
  {
   "cell_type": "markdown",
   "id": "0df62146",
   "metadata": {},
   "source": [
    "# Pergunta 2"
   ]
  },
  {
   "cell_type": "code",
   "execution_count": 11,
   "id": "459a5813",
   "metadata": {},
   "outputs": [
    {
     "data": {
      "application/vnd.jupyter.widget-view+json": {
       "model_id": "8d3bfc3f-3af4-4d4d-b537-c083911ecd06",
       "version_major": 2,
       "version_minor": 0
      },
      "method": "display_data"
     },
     "metadata": {},
     "output_type": "display_data"
    }
   ],
   "source": [
    "DROP TABLE IF EXISTS ViewRecomendation;\n",
    "CREATE VIEW ViewRecomendation AS SELECT Song_1, Song_2, Relation FROM MusicRelation MR WHERE (MR.Song_1 = '3e9HZxeyfWwjeyPAMmWSSQ' OR MR.Song_2 = '3e9HZxeyfWwjeyPAMmWSSQ');\n",
    "SELECT * FROM ViewRecomendation;"
   ]
  },
  {
   "cell_type": "code",
   "execution_count": 12,
   "id": "f44f2a4c",
   "metadata": {},
   "outputs": [
    {
     "data": {
      "text/plain": [
       "2.84"
      ]
     },
     "execution_count": 12,
     "metadata": {},
     "output_type": "execute_result"
    }
   ],
   "source": [
    "SELECT Relation FROM MusicRelation MR WHERE (MR.Song_1 = '3e9HZxeyfWwjeyPAMmWSSQ' OR MR.Song_2 = '3e9HZxeyfWwjeyPAMmWSSQ') AND Relation = (SELECT MAX(Relation) FROM ViewRecomendation);"
   ]
  },
  {
   "cell_type": "code",
   "execution_count": 13,
   "id": "2546afe4",
   "metadata": {},
   "outputs": [
    {
     "data": {
      "application/vnd.jupyter.widget-view+json": {
       "model_id": "5ed2fd66-4f72-415a-a679-fd2b1571d293",
       "version_major": 2,
       "version_minor": 0
      },
      "method": "display_data"
     },
     "metadata": {},
     "output_type": "display_data"
    }
   ],
   "source": [
    "SELECT Song_1, Song_2, Relation FROM ViewRecomendation WHERE Relation > 2.84*0.7;"
   ]
  },
  {
   "cell_type": "markdown",
   "id": "0f10dd93",
   "metadata": {},
   "source": [
    "### Músicas com maior relação com a música escolhida (acima de 70% de 2.84)\n",
    "### Sendo 2.84 a maior relação da música: Thank U, Next - Ariana Grande"
   ]
  },
  {
   "cell_type": "code",
   "execution_count": 14,
   "id": "08cb8ea5",
   "metadata": {},
   "outputs": [
    {
     "data": {
      "application/vnd.jupyter.widget-view+json": {
       "model_id": "a9faef53-cf47-41c1-81b8-aab9945c0ad6",
       "version_major": 2,
       "version_minor": 0
      },
      "method": "display_data"
     },
     "metadata": {},
     "output_type": "display_data"
    },
    {
     "data": {
      "application/vnd.jupyter.widget-view+json": {
       "model_id": "3642f70f-6168-426a-9289-6150a9a9697d",
       "version_major": 2,
       "version_minor": 0
      },
      "method": "display_data"
     },
     "metadata": {},
     "output_type": "display_data"
    }
   ],
   "source": [
    "SELECT * FROM Songs WHERE song_id IN (SELECT Song_1 FROM ViewRecomendation WHERE Relation > 2.84*0.7);\n",
    "SELECT * FROM Songs WHERE song_id IN (SELECT Song_2 FROM ViewRecomendation WHERE Relation > 2.84*0.7);"
   ]
  },
  {
   "cell_type": "markdown",
   "id": "72e3515d",
   "metadata": {},
   "source": [
    "# Pergunta 3"
   ]
  },
  {
   "cell_type": "code",
   "execution_count": 15,
   "id": "5d7e2364",
   "metadata": {},
   "outputs": [
    {
     "data": {
      "application/vnd.jupyter.widget-view+json": {
       "model_id": "118ae2e0-47c7-4164-a196-fc605f1edcda",
       "version_major": 2,
       "version_minor": 0
      },
      "method": "display_data"
     },
     "metadata": {},
     "output_type": "display_data"
    }
   ],
   "source": [
    "SELECT * FROM Songs WHERE popularity < 15;"
   ]
  },
  {
   "cell_type": "code",
   "execution_count": 16,
   "id": "d823149c",
   "metadata": {},
   "outputs": [
    {
     "data": {
      "application/vnd.jupyter.widget-view+json": {
       "model_id": "55f368ef-7b62-40f7-a454-3993d1855d57",
       "version_major": 2,
       "version_minor": 0
      },
      "method": "display_data"
     },
     "metadata": {},
     "output_type": "display_data"
    }
   ],
   "source": [
    "DROP TABLE IF EXISTS ViewLowPopularity;\n",
    "CREATE VIEW ViewLowPopularity AS SELECT Song_1, Song_2, Relation FROM MusicRelation WHERE Song_1 IN (SELECT song_id FROM Songs WHERE popularity < 15) OR Song_2 IN (SELECT song_id FROM Songs WHERE popularity < 15);\n",
    "SELECT * FROM ViewLowPopularity;"
   ]
  },
  {
   "cell_type": "code",
   "execution_count": 19,
   "id": "6d853f0c",
   "metadata": {},
   "outputs": [
    {
     "data": {
      "text/plain": [
       "1.586320780780878"
      ]
     },
     "execution_count": 19,
     "metadata": {},
     "output_type": "execute_result"
    }
   ],
   "source": [
    "SELECT AVG(Relation) FROM MusicRelation;"
   ]
  },
  {
   "cell_type": "code",
   "execution_count": 20,
   "id": "0db113f6",
   "metadata": {},
   "outputs": [
    {
     "data": {
      "text/plain": [
       "1.2572158426369013"
      ]
     },
     "execution_count": 20,
     "metadata": {},
     "output_type": "execute_result"
    }
   ],
   "source": [
    "SELECT AVG(Relation) FROM ViewLowPopularity;"
   ]
  },
  {
   "cell_type": "markdown",
   "id": "024d65dc",
   "metadata": {},
   "source": [
    "### A Relação das músicas menos ouvidas (popularidade < 15)\n",
    "### é menor que a média da relação de todas as músicas"
   ]
  },
  {
   "cell_type": "code",
   "execution_count": null,
   "id": "da151606",
   "metadata": {},
   "outputs": [],
   "source": []
  }
 ],
 "metadata": {
  "kernelspec": {
   "display_name": "SQL",
   "language": "SQL",
   "name": "sql"
  },
  "language_info": {
   "codemirror_mode": "sql",
   "file_extension": ".sql",
   "mimetype": "",
   "name": "SQL",
   "nbconverter_exporter": "",
   "version": ""
  }
 },
 "nbformat": 4,
 "nbformat_minor": 5
}
